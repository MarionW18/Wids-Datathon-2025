{
  "metadata": {
    "kernelspec": {
      "name": "python3",
      "display_name": "Python 3",
      "language": "python"
    },
    "language_info": {
      "name": "python",
      "version": "3.10.12",
      "mimetype": "text/x-python",
      "codemirror_mode": {
        "name": "ipython",
        "version": 3
      },
      "pygments_lexer": "ipython3",
      "nbconvert_exporter": "python",
      "file_extension": ".py"
    },
    "kaggle": {
      "accelerator": "nvidiaTeslaT4",
      "dataSources": [
        {
          "sourceId": 90566,
          "databundleVersionId": 11498594,
          "sourceType": "competition"
        }
      ],
      "isInternetEnabled": true,
      "language": "python",
      "sourceType": "notebook",
      "isGpuEnabled": true
    },
    "colab": {
      "provenance": [],
      "gpuType": "T4",
      "include_colab_link": true
    },
    "accelerator": "GPU"
  },
  "nbformat_minor": 0,
  "nbformat": 4,
  "cells": [
    {
      "cell_type": "markdown",
      "metadata": {
        "id": "view-in-github",
        "colab_type": "text"
      },
      "source": [
        "<a href=\"https://colab.research.google.com/github/MarionW18/Wids-Datathon-2025/blob/master/ricmwasdata-notebook.ipynb\" target=\"_parent\"><img src=\"https://colab.research.google.com/assets/colab-badge.svg\" alt=\"Open In Colab\"/></a>"
      ]
    },
    {
      "cell_type": "code",
      "source": [
        "#check my environment if it is loacal or kaggle\n",
        "import os\n",
        "\n",
        "def check_environment():\n",
        "    # Check for a Kaggle-specific environment variable\n",
        "    if 'KAGGLE_URL_BASE' in os.environ:\n",
        "        print(\"Running on Kaggle.\")\n",
        "        return \"kaggle\"\n",
        "    else:\n",
        "        print(\"Running locally.\")\n",
        "        return \"local\"\n",
        "\n",
        "env = check_environment()\n",
        "\n",
        "# Set the path based on the detected environment\n",
        "if env == \"kaggle\":\n",
        "    base_path =\"/kaggle/input/widsdatathon2025/\"\n",
        "else:\n",
        "    base_path = \"Data/\"\n",
        "\n",
        "print(\"Base path is set to:\", base_path)\n"
      ],
      "metadata": {
        "trusted": true,
        "colab": {
          "base_uri": "https://localhost:8080/"
        },
        "id": "Xj9DUlgaCwPh",
        "outputId": "68a1f6a4-926d-4781-99c5-9e8b73818d43",
        "execution": {
          "iopub.status.busy": "2025-03-22T09:55:52.880262Z",
          "iopub.execute_input": "2025-03-22T09:55:52.880748Z",
          "iopub.status.idle": "2025-03-22T09:55:52.887274Z",
          "shell.execute_reply.started": "2025-03-22T09:55:52.880719Z",
          "shell.execute_reply": "2025-03-22T09:55:52.886348Z"
        }
      },
      "outputs": [
        {
          "name": "stdout",
          "text": "Running on Kaggle.\nBase path is set to: /kaggle/input/widsdatathon2025/\n",
          "output_type": "stream"
        }
      ],
      "execution_count": null
    },
    {
      "cell_type": "code",
      "source": [
        "env"
      ],
      "metadata": {
        "trusted": true,
        "colab": {
          "base_uri": "https://localhost:8080/",
          "height": 35
        },
        "id": "3o7oREesCwPj",
        "outputId": "6301baa1-e213-447a-b53d-c3c94d81f8b8",
        "execution": {
          "iopub.status.busy": "2025-03-22T09:55:52.888990Z",
          "iopub.execute_input": "2025-03-22T09:55:52.889297Z",
          "iopub.status.idle": "2025-03-22T09:55:52.905977Z",
          "shell.execute_reply.started": "2025-03-22T09:55:52.889264Z",
          "shell.execute_reply": "2025-03-22T09:55:52.905167Z"
        }
      },
      "outputs": [
        {
          "execution_count": 3,
          "output_type": "execute_result",
          "data": {
            "text/plain": "'kaggle'"
          },
          "metadata": {}
        }
      ],
      "execution_count": null
    },
    {
      "cell_type": "code",
      "source": [
        "#!mkdir Data/TRAIN_OLD"
      ],
      "metadata": {
        "id": "XUdsKX5bD3-T",
        "trusted": true,
        "execution": {
          "iopub.status.busy": "2025-03-22T09:55:52.907111Z",
          "iopub.execute_input": "2025-03-22T09:55:52.907383Z",
          "iopub.status.idle": "2025-03-22T09:55:52.919183Z",
          "shell.execute_reply.started": "2025-03-22T09:55:52.907351Z",
          "shell.execute_reply": "2025-03-22T09:55:52.918399Z"
        }
      },
      "outputs": [],
      "execution_count": null
    },
    {
      "cell_type": "code",
      "source": [
        "#This is my personal notebooks\n",
        "import numpy as np # linear algebra\n",
        "import pandas as pd # data processing\n",
        "\n"
      ],
      "metadata": {
        "_cell_guid": "b1076dfc-b9ad-4769-8c92-a6c4dae69d19",
        "_uuid": "8f2839f25d086af736a60e9eeb907d3b93b6e0e5",
        "trusted": true,
        "id": "q-XPDgo4CwPk",
        "execution": {
          "iopub.status.busy": "2025-03-22T09:55:52.920352Z",
          "iopub.execute_input": "2025-03-22T09:55:52.920540Z",
          "iopub.status.idle": "2025-03-22T09:55:52.929961Z",
          "shell.execute_reply.started": "2025-03-22T09:55:52.920523Z",
          "shell.execute_reply": "2025-03-22T09:55:52.929285Z"
        }
      },
      "outputs": [],
      "execution_count": null
    },
    {
      "cell_type": "code",
      "source": [
        "#list\n",
        "#string\n",
        "#integer\n",
        "#Dataframe\n",
        "#/kaggle/input/widsdatathon2025/TRAIN/TRAIN_CATEGORICAL_METADATA.xlsx\n",
        "#C:\\Users\\Ricmwas\\Documents\\python_projects\\Wids-Datathon-2025\\Data\\TRAIN\\TRAIN_CATEGORICAL_METADATA.xlsx"
      ],
      "metadata": {
        "trusted": true,
        "id": "JSv7Hn4YCwPk",
        "execution": {
          "iopub.status.busy": "2025-03-22T09:55:52.931442Z",
          "iopub.execute_input": "2025-03-22T09:55:52.931863Z",
          "iopub.status.idle": "2025-03-22T09:55:52.941509Z",
          "shell.execute_reply.started": "2025-03-22T09:55:52.931840Z",
          "shell.execute_reply": "2025-03-22T09:55:52.940701Z"
        }
      },
      "outputs": [],
      "execution_count": null
    },
    {
      "cell_type": "markdown",
      "source": [],
      "metadata": {
        "id": "m8WZPNPaCwPk"
      }
    },
    {
      "cell_type": "code",
      "source": [
        "# if env ==\"kaggle\":\n",
        "#     !pip install openpyxl"
      ],
      "metadata": {
        "trusted": true,
        "id": "z1szn3kKCwPl",
        "execution": {
          "iopub.status.busy": "2025-03-22T09:55:52.942467Z",
          "iopub.execute_input": "2025-03-22T09:55:52.942778Z",
          "iopub.status.idle": "2025-03-22T09:55:57.310080Z",
          "shell.execute_reply.started": "2025-03-22T09:55:52.942756Z",
          "shell.execute_reply": "2025-03-22T09:55:57.309139Z"
        },
        "outputId": "990b88b4-ff3c-4fca-8962-f690e249fb75"
      },
      "outputs": [
        {
          "name": "stdout",
          "text": "Requirement already satisfied: openpyxl in /usr/local/lib/python3.10/dist-packages (3.1.5)\nRequirement already satisfied: et-xmlfile in /usr/local/lib/python3.10/dist-packages (from openpyxl) (2.0.0)\n",
          "output_type": "stream"
        }
      ],
      "execution_count": null
    },
    {
      "cell_type": "code",
      "source": [
        "# train solution\n",
        "#/kaggle/input/widsdatathon2025/TRAIN_NEW/TRAINING_SOLUTIONS.xlsx\n",
        "training_combined= pd.read_excel(base_path+'TRAIN_OLD/TRAINING_SOLUTIONS.xlsx', sheet_name='training_combined')\n",
        "training_combined.head()"
      ],
      "metadata": {
        "trusted": true,
        "colab": {
          "base_uri": "https://localhost:8080/",
          "height": 206
        },
        "id": "4lb_1drdCwPl",
        "outputId": "d248114f-1fa5-47b7-8d5d-d2c07bdbd55c",
        "execution": {
          "iopub.status.busy": "2025-03-22T09:55:57.311263Z",
          "iopub.execute_input": "2025-03-22T09:55:57.311599Z",
          "iopub.status.idle": "2025-03-22T09:55:58.007843Z",
          "shell.execute_reply.started": "2025-03-22T09:55:57.311550Z",
          "shell.execute_reply": "2025-03-22T09:55:58.006965Z"
        }
      },
      "outputs": [
        {
          "execution_count": 8,
          "output_type": "execute_result",
          "data": {
            "text/plain": "  participant_id  ADHD_Outcome  Sex_F\n0   UmrK0vMLopoR             1      1\n1   CPaeQkhcjg7d             1      0\n2   Nb4EetVPm3gs             1      0\n3   p4vPhVu91o4b             1      1\n4   M09PXs7arQ5E             1      1",
            "text/html": "<div>\n<style scoped>\n    .dataframe tbody tr th:only-of-type {\n        vertical-align: middle;\n    }\n\n    .dataframe tbody tr th {\n        vertical-align: top;\n    }\n\n    .dataframe thead th {\n        text-align: right;\n    }\n</style>\n<table border=\"1\" class=\"dataframe\">\n  <thead>\n    <tr style=\"text-align: right;\">\n      <th></th>\n      <th>participant_id</th>\n      <th>ADHD_Outcome</th>\n      <th>Sex_F</th>\n    </tr>\n  </thead>\n  <tbody>\n    <tr>\n      <th>0</th>\n      <td>UmrK0vMLopoR</td>\n      <td>1</td>\n      <td>1</td>\n    </tr>\n    <tr>\n      <th>1</th>\n      <td>CPaeQkhcjg7d</td>\n      <td>1</td>\n      <td>0</td>\n    </tr>\n    <tr>\n      <th>2</th>\n      <td>Nb4EetVPm3gs</td>\n      <td>1</td>\n      <td>0</td>\n    </tr>\n    <tr>\n      <th>3</th>\n      <td>p4vPhVu91o4b</td>\n      <td>1</td>\n      <td>1</td>\n    </tr>\n    <tr>\n      <th>4</th>\n      <td>M09PXs7arQ5E</td>\n      <td>1</td>\n      <td>1</td>\n    </tr>\n  </tbody>\n</table>\n</div>"
          },
          "metadata": {}
        }
      ],
      "execution_count": null
    },
    {
      "cell_type": "code",
      "source": [
        "#Read data\n",
        "train_categorical= pd.read_excel(base_path+'TRAIN_OLD/TRAIN_CATEGORICAL_METADATA.xlsx', sheet_name=\"training_combined\")\n",
        "train_categorical.head()"
      ],
      "metadata": {
        "trusted": true,
        "colab": {
          "base_uri": "https://localhost:8080/",
          "height": 226
        },
        "id": "ibLyWq7iCwPl",
        "outputId": "1216ce58-ed4c-4403-df80-95c62e4b23e4",
        "execution": {
          "iopub.status.busy": "2025-03-22T09:55:58.008635Z",
          "iopub.execute_input": "2025-03-22T09:55:58.009050Z",
          "iopub.status.idle": "2025-03-22T09:55:58.173733Z",
          "shell.execute_reply.started": "2025-03-22T09:55:58.009003Z",
          "shell.execute_reply": "2025-03-22T09:55:58.172733Z"
        }
      },
      "outputs": [
        {
          "execution_count": 9,
          "output_type": "execute_result",
          "data": {
            "text/plain": "  participant_id  Basic_Demos_Enroll_Year  Basic_Demos_Study_Site  \\\n0   UmrK0vMLopoR                     2016                       1   \n1   CPaeQkhcjg7d                     2019                       3   \n2   Nb4EetVPm3gs                     2016                       1   \n3   p4vPhVu91o4b                     2018                       3   \n4   M09PXs7arQ5E                     2019                       3   \n\n   PreInt_Demos_Fam_Child_Ethnicity  PreInt_Demos_Fam_Child_Race  \\\n0                               0.0                            0   \n1                               1.0                            2   \n2                               1.0                            8   \n3                               0.0                            8   \n4                               0.0                            1   \n\n   MRI_Track_Scan_Location  Barratt_Barratt_P1_Edu  Barratt_Barratt_P1_Occ  \\\n0                        1                      21                      45   \n1                        3                      15                      15   \n2                        1                      18                      40   \n3                        3                      15                      30   \n4                        3                      15                      20   \n\n   Barratt_Barratt_P2_Edu  Barratt_Barratt_P2_Occ  \n0                      21                      45  \n1                       0                       0  \n2                       0                       0  \n3                      18                       0  \n4                       0                       0  ",
            "text/html": "<div>\n<style scoped>\n    .dataframe tbody tr th:only-of-type {\n        vertical-align: middle;\n    }\n\n    .dataframe tbody tr th {\n        vertical-align: top;\n    }\n\n    .dataframe thead th {\n        text-align: right;\n    }\n</style>\n<table border=\"1\" class=\"dataframe\">\n  <thead>\n    <tr style=\"text-align: right;\">\n      <th></th>\n      <th>participant_id</th>\n      <th>Basic_Demos_Enroll_Year</th>\n      <th>Basic_Demos_Study_Site</th>\n      <th>PreInt_Demos_Fam_Child_Ethnicity</th>\n      <th>PreInt_Demos_Fam_Child_Race</th>\n      <th>MRI_Track_Scan_Location</th>\n      <th>Barratt_Barratt_P1_Edu</th>\n      <th>Barratt_Barratt_P1_Occ</th>\n      <th>Barratt_Barratt_P2_Edu</th>\n      <th>Barratt_Barratt_P2_Occ</th>\n    </tr>\n  </thead>\n  <tbody>\n    <tr>\n      <th>0</th>\n      <td>UmrK0vMLopoR</td>\n      <td>2016</td>\n      <td>1</td>\n      <td>0.0</td>\n      <td>0</td>\n      <td>1</td>\n      <td>21</td>\n      <td>45</td>\n      <td>21</td>\n      <td>45</td>\n    </tr>\n    <tr>\n      <th>1</th>\n      <td>CPaeQkhcjg7d</td>\n      <td>2019</td>\n      <td>3</td>\n      <td>1.0</td>\n      <td>2</td>\n      <td>3</td>\n      <td>15</td>\n      <td>15</td>\n      <td>0</td>\n      <td>0</td>\n    </tr>\n    <tr>\n      <th>2</th>\n      <td>Nb4EetVPm3gs</td>\n      <td>2016</td>\n      <td>1</td>\n      <td>1.0</td>\n      <td>8</td>\n      <td>1</td>\n      <td>18</td>\n      <td>40</td>\n      <td>0</td>\n      <td>0</td>\n    </tr>\n    <tr>\n      <th>3</th>\n      <td>p4vPhVu91o4b</td>\n      <td>2018</td>\n      <td>3</td>\n      <td>0.0</td>\n      <td>8</td>\n      <td>3</td>\n      <td>15</td>\n      <td>30</td>\n      <td>18</td>\n      <td>0</td>\n    </tr>\n    <tr>\n      <th>4</th>\n      <td>M09PXs7arQ5E</td>\n      <td>2019</td>\n      <td>3</td>\n      <td>0.0</td>\n      <td>1</td>\n      <td>3</td>\n      <td>15</td>\n      <td>20</td>\n      <td>0</td>\n      <td>0</td>\n    </tr>\n  </tbody>\n</table>\n</div>"
          },
          "metadata": {}
        }
      ],
      "execution_count": null
    },
    {
      "cell_type": "code",
      "source": [
        "train_categorical.info()"
      ],
      "metadata": {
        "trusted": true,
        "colab": {
          "base_uri": "https://localhost:8080/"
        },
        "id": "OIQhlITICwPm",
        "outputId": "2ebefaf7-bd3c-4a86-ef4e-7cd8ea8ed8cd",
        "execution": {
          "iopub.status.busy": "2025-03-22T09:55:58.176378Z",
          "iopub.execute_input": "2025-03-22T09:55:58.176625Z",
          "iopub.status.idle": "2025-03-22T09:55:58.200003Z",
          "shell.execute_reply.started": "2025-03-22T09:55:58.176604Z",
          "shell.execute_reply": "2025-03-22T09:55:58.198976Z"
        }
      },
      "outputs": [
        {
          "name": "stdout",
          "text": "<class 'pandas.core.frame.DataFrame'>\nRangeIndex: 1213 entries, 0 to 1212\nData columns (total 10 columns):\n #   Column                            Non-Null Count  Dtype  \n---  ------                            --------------  -----  \n 0   participant_id                    1213 non-null   object \n 1   Basic_Demos_Enroll_Year           1213 non-null   int64  \n 2   Basic_Demos_Study_Site            1213 non-null   int64  \n 3   PreInt_Demos_Fam_Child_Ethnicity  1202 non-null   float64\n 4   PreInt_Demos_Fam_Child_Race       1213 non-null   int64  \n 5   MRI_Track_Scan_Location           1213 non-null   int64  \n 6   Barratt_Barratt_P1_Edu            1213 non-null   int64  \n 7   Barratt_Barratt_P1_Occ            1213 non-null   int64  \n 8   Barratt_Barratt_P2_Edu            1213 non-null   int64  \n 9   Barratt_Barratt_P2_Occ            1213 non-null   int64  \ndtypes: float64(1), int64(8), object(1)\nmemory usage: 94.9+ KB\n",
          "output_type": "stream"
        }
      ],
      "execution_count": null
    },
    {
      "cell_type": "code",
      "source": [
        "train_quantitative= pd.read_excel(base_path+'TRAIN_OLD/TRAIN_QUANTITATIVE_METADATA.xlsx',\n",
        "                                 sheet_name= \"training_combined\")\n",
        "train_quantitative.head()"
      ],
      "metadata": {
        "trusted": true,
        "colab": {
          "base_uri": "https://localhost:8080/",
          "height": 226
        },
        "id": "MBnQEIcWCwPm",
        "outputId": "51bc642f-8e93-40b9-fe42-81431aa6f518",
        "execution": {
          "iopub.status.busy": "2025-03-22T09:55:58.201554Z",
          "iopub.execute_input": "2025-03-22T09:55:58.201826Z",
          "iopub.status.idle": "2025-03-22T09:55:58.494740Z",
          "shell.execute_reply.started": "2025-03-22T09:55:58.201804Z",
          "shell.execute_reply": "2025-03-22T09:55:58.493950Z"
        }
      },
      "outputs": [
        {
          "name": "stderr",
          "text": "/usr/local/lib/python3.10/dist-packages/pandas/io/formats/format.py:1458: RuntimeWarning: invalid value encountered in greater\n  has_large_values = (abs_vals > 1e6).any()\n/usr/local/lib/python3.10/dist-packages/pandas/io/formats/format.py:1459: RuntimeWarning: invalid value encountered in less\n  has_small_values = ((abs_vals < 10 ** (-self.digits)) & (abs_vals > 0)).any()\n/usr/local/lib/python3.10/dist-packages/pandas/io/formats/format.py:1459: RuntimeWarning: invalid value encountered in greater\n  has_small_values = ((abs_vals < 10 ** (-self.digits)) & (abs_vals > 0)).any()\n",
          "output_type": "stream"
        },
        {
          "execution_count": 11,
          "output_type": "execute_result",
          "data": {
            "text/plain": "  participant_id  EHQ_EHQ_Total  ColorVision_CV_Score  APQ_P_APQ_P_CP  \\\n0   UmrK0vMLopoR          40.00                    13               3   \n1   CPaeQkhcjg7d         -94.47                    14               3   \n2   Nb4EetVPm3gs         -46.67                    14               4   \n3   p4vPhVu91o4b         -26.68                    10               5   \n4   M09PXs7arQ5E           0.00                    14               5   \n\n   APQ_P_APQ_P_ID  APQ_P_APQ_P_INV  APQ_P_APQ_P_OPD  APQ_P_APQ_P_PM  \\\n0              10               47               13              11   \n1              13               34               18              23   \n2              10               35               16              10   \n3              12               39               19              16   \n4              15               40               20              24   \n\n   APQ_P_APQ_P_PP  SDQ_SDQ_Conduct_Problems  SDQ_SDQ_Difficulties_Total  \\\n0              28                         0                           6   \n1              30                         0                          18   \n2              29                         1                          14   \n3              28                         6                          24   \n4              28                         1                          18   \n\n   SDQ_SDQ_Emotional_Problems  SDQ_SDQ_Externalizing  \\\n0                           1                      5   \n1                           6                      8   \n2                           2                      8   \n3                           4                     16   \n4                           4                     11   \n\n   SDQ_SDQ_Generating_Impact  SDQ_SDQ_Hyperactivity  SDQ_SDQ_Internalizing  \\\n0                          0                      5                      1   \n1                          7                      8                     10   \n2                          5                      7                      6   \n3                          9                     10                      8   \n4                          4                     10                      7   \n\n   SDQ_SDQ_Peer_Problems  SDQ_SDQ_Prosocial  MRI_Track_Age_at_Scan  \n0                      0                 10                    NaN  \n1                      4                  5                    NaN  \n2                      4                  9               8.239904  \n3                      4                  6                    NaN  \n4                      3                  9               8.940679  ",
            "text/html": "<div>\n<style scoped>\n    .dataframe tbody tr th:only-of-type {\n        vertical-align: middle;\n    }\n\n    .dataframe tbody tr th {\n        vertical-align: top;\n    }\n\n    .dataframe thead th {\n        text-align: right;\n    }\n</style>\n<table border=\"1\" class=\"dataframe\">\n  <thead>\n    <tr style=\"text-align: right;\">\n      <th></th>\n      <th>participant_id</th>\n      <th>EHQ_EHQ_Total</th>\n      <th>ColorVision_CV_Score</th>\n      <th>APQ_P_APQ_P_CP</th>\n      <th>APQ_P_APQ_P_ID</th>\n      <th>APQ_P_APQ_P_INV</th>\n      <th>APQ_P_APQ_P_OPD</th>\n      <th>APQ_P_APQ_P_PM</th>\n      <th>APQ_P_APQ_P_PP</th>\n      <th>SDQ_SDQ_Conduct_Problems</th>\n      <th>SDQ_SDQ_Difficulties_Total</th>\n      <th>SDQ_SDQ_Emotional_Problems</th>\n      <th>SDQ_SDQ_Externalizing</th>\n      <th>SDQ_SDQ_Generating_Impact</th>\n      <th>SDQ_SDQ_Hyperactivity</th>\n      <th>SDQ_SDQ_Internalizing</th>\n      <th>SDQ_SDQ_Peer_Problems</th>\n      <th>SDQ_SDQ_Prosocial</th>\n      <th>MRI_Track_Age_at_Scan</th>\n    </tr>\n  </thead>\n  <tbody>\n    <tr>\n      <th>0</th>\n      <td>UmrK0vMLopoR</td>\n      <td>40.00</td>\n      <td>13</td>\n      <td>3</td>\n      <td>10</td>\n      <td>47</td>\n      <td>13</td>\n      <td>11</td>\n      <td>28</td>\n      <td>0</td>\n      <td>6</td>\n      <td>1</td>\n      <td>5</td>\n      <td>0</td>\n      <td>5</td>\n      <td>1</td>\n      <td>0</td>\n      <td>10</td>\n      <td>NaN</td>\n    </tr>\n    <tr>\n      <th>1</th>\n      <td>CPaeQkhcjg7d</td>\n      <td>-94.47</td>\n      <td>14</td>\n      <td>3</td>\n      <td>13</td>\n      <td>34</td>\n      <td>18</td>\n      <td>23</td>\n      <td>30</td>\n      <td>0</td>\n      <td>18</td>\n      <td>6</td>\n      <td>8</td>\n      <td>7</td>\n      <td>8</td>\n      <td>10</td>\n      <td>4</td>\n      <td>5</td>\n      <td>NaN</td>\n    </tr>\n    <tr>\n      <th>2</th>\n      <td>Nb4EetVPm3gs</td>\n      <td>-46.67</td>\n      <td>14</td>\n      <td>4</td>\n      <td>10</td>\n      <td>35</td>\n      <td>16</td>\n      <td>10</td>\n      <td>29</td>\n      <td>1</td>\n      <td>14</td>\n      <td>2</td>\n      <td>8</td>\n      <td>5</td>\n      <td>7</td>\n      <td>6</td>\n      <td>4</td>\n      <td>9</td>\n      <td>8.239904</td>\n    </tr>\n    <tr>\n      <th>3</th>\n      <td>p4vPhVu91o4b</td>\n      <td>-26.68</td>\n      <td>10</td>\n      <td>5</td>\n      <td>12</td>\n      <td>39</td>\n      <td>19</td>\n      <td>16</td>\n      <td>28</td>\n      <td>6</td>\n      <td>24</td>\n      <td>4</td>\n      <td>16</td>\n      <td>9</td>\n      <td>10</td>\n      <td>8</td>\n      <td>4</td>\n      <td>6</td>\n      <td>NaN</td>\n    </tr>\n    <tr>\n      <th>4</th>\n      <td>M09PXs7arQ5E</td>\n      <td>0.00</td>\n      <td>14</td>\n      <td>5</td>\n      <td>15</td>\n      <td>40</td>\n      <td>20</td>\n      <td>24</td>\n      <td>28</td>\n      <td>1</td>\n      <td>18</td>\n      <td>4</td>\n      <td>11</td>\n      <td>4</td>\n      <td>10</td>\n      <td>7</td>\n      <td>3</td>\n      <td>9</td>\n      <td>8.940679</td>\n    </tr>\n  </tbody>\n</table>\n</div>"
          },
          "metadata": {}
        }
      ],
      "execution_count": null
    },
    {
      "cell_type": "code",
      "source": [
        "train_quantitative.info()"
      ],
      "metadata": {
        "trusted": true,
        "colab": {
          "base_uri": "https://localhost:8080/"
        },
        "id": "ErA01tpaCwPm",
        "outputId": "395fdf1d-07ba-49bd-fef8-82ffc28dbb4a",
        "execution": {
          "iopub.status.busy": "2025-03-22T09:55:58.495580Z",
          "iopub.execute_input": "2025-03-22T09:55:58.495875Z",
          "iopub.status.idle": "2025-03-22T09:55:58.506000Z",
          "shell.execute_reply.started": "2025-03-22T09:55:58.495852Z",
          "shell.execute_reply": "2025-03-22T09:55:58.505265Z"
        }
      },
      "outputs": [
        {
          "name": "stdout",
          "text": "<class 'pandas.core.frame.DataFrame'>\nRangeIndex: 1213 entries, 0 to 1212\nData columns (total 19 columns):\n #   Column                      Non-Null Count  Dtype  \n---  ------                      --------------  -----  \n 0   participant_id              1213 non-null   object \n 1   EHQ_EHQ_Total               1213 non-null   float64\n 2   ColorVision_CV_Score        1213 non-null   int64  \n 3   APQ_P_APQ_P_CP              1213 non-null   int64  \n 4   APQ_P_APQ_P_ID              1213 non-null   int64  \n 5   APQ_P_APQ_P_INV             1213 non-null   int64  \n 6   APQ_P_APQ_P_OPD             1213 non-null   int64  \n 7   APQ_P_APQ_P_PM              1213 non-null   int64  \n 8   APQ_P_APQ_P_PP              1213 non-null   int64  \n 9   SDQ_SDQ_Conduct_Problems    1213 non-null   int64  \n 10  SDQ_SDQ_Difficulties_Total  1213 non-null   int64  \n 11  SDQ_SDQ_Emotional_Problems  1213 non-null   int64  \n 12  SDQ_SDQ_Externalizing       1213 non-null   int64  \n 13  SDQ_SDQ_Generating_Impact   1213 non-null   int64  \n 14  SDQ_SDQ_Hyperactivity       1213 non-null   int64  \n 15  SDQ_SDQ_Internalizing       1213 non-null   int64  \n 16  SDQ_SDQ_Peer_Problems       1213 non-null   int64  \n 17  SDQ_SDQ_Prosocial           1213 non-null   int64  \n 18  MRI_Track_Age_at_Scan       853 non-null    float64\ndtypes: float64(2), int64(16), object(1)\nmemory usage: 180.2+ KB\n",
          "output_type": "stream"
        }
      ],
      "execution_count": null
    },
    {
      "cell_type": "code",
      "source": [
        "train_functional= pd.read_csv(base_path+'TRAIN_OLD/TRAIN_FUNCTIONAL_CONNECTOME_MATRICES.csv')\n",
        "train_functional.head()"
      ],
      "metadata": {
        "trusted": true,
        "colab": {
          "base_uri": "https://localhost:8080/",
          "height": 255
        },
        "id": "BVl_wdw3CwPm",
        "outputId": "1fbb8537-bbe9-4fbe-c3cc-1f6c638d9ebf",
        "execution": {
          "iopub.status.busy": "2025-03-22T09:55:58.506884Z",
          "iopub.execute_input": "2025-03-22T09:55:58.507213Z",
          "iopub.status.idle": "2025-03-22T09:56:13.091537Z",
          "shell.execute_reply.started": "2025-03-22T09:55:58.507180Z",
          "shell.execute_reply": "2025-03-22T09:56:13.090618Z"
        }
      },
      "outputs": [
        {
          "execution_count": 13,
          "output_type": "execute_result",
          "data": {
            "text/plain": "  participant_id  0throw_1thcolumn  0throw_2thcolumn  0throw_3thcolumn  \\\n0   70z8Q2xdTXM3          0.093473          0.146902          0.067893   \n1   WHWymJu6zNZi          0.029580          0.179323          0.112933   \n2   4PAQp1M6EyAo         -0.051580          0.139734          0.068295   \n3   obEacy4Of68I          0.016273          0.204702          0.115980   \n4   s7WzzDcmDOhF          0.065771          0.098714          0.097604   \n\n   0throw_4thcolumn  0throw_5thcolumn  0throw_6thcolumn  0throw_7thcolumn  \\\n0          0.015141          0.070221          0.063997          0.055382   \n1          0.038291          0.104899          0.064250          0.008488   \n2          0.046991          0.111085          0.026978          0.151377   \n3          0.043103          0.056431          0.057615          0.055773   \n4          0.112988          0.071139          0.085607          0.019392   \n\n   0throw_8thcolumn  0throw_9thcolumn  ...  195throw_196thcolumn  \\\n0         -0.035335          0.068583  ...              0.003404   \n1          0.077505         -0.004750  ...             -0.008409   \n2          0.021198          0.083721  ...              0.053245   \n3          0.075030          0.001033  ...             -0.023918   \n4         -0.036403         -0.020375  ...              0.066439   \n\n   195throw_197thcolumn  195throw_198thcolumn  195throw_199thcolumn  \\\n0             -0.010359             -0.050968             -0.014365   \n1             -0.008479              0.020891              0.017754   \n2             -0.028003              0.028773              0.024556   \n3             -0.005356              0.018607              0.016193   \n4             -0.076680             -0.047530             -0.031443   \n\n   196throw_197thcolumn  196throw_198thcolumn  196throw_199thcolumn  \\\n0              0.128066              0.112646             -0.058980   \n1              0.094040              0.035141              0.032537   \n2              0.166343              0.058925              0.035485   \n3              0.072955              0.130135              0.056120   \n4              0.221213              0.007343              0.005763   \n\n   197throw_198thcolumn  197throw_199thcolumn  198throw_199thcolumn  \n0              0.028228              0.133582              0.143372  \n1              0.075007              0.115350              0.138200  \n2              0.063661              0.042862              0.162162  \n3              0.084784              0.114148              0.190584  \n4              0.083820              0.079582              0.067269  \n\n[5 rows x 19901 columns]",
            "text/html": "<div>\n<style scoped>\n    .dataframe tbody tr th:only-of-type {\n        vertical-align: middle;\n    }\n\n    .dataframe tbody tr th {\n        vertical-align: top;\n    }\n\n    .dataframe thead th {\n        text-align: right;\n    }\n</style>\n<table border=\"1\" class=\"dataframe\">\n  <thead>\n    <tr style=\"text-align: right;\">\n      <th></th>\n      <th>participant_id</th>\n      <th>0throw_1thcolumn</th>\n      <th>0throw_2thcolumn</th>\n      <th>0throw_3thcolumn</th>\n      <th>0throw_4thcolumn</th>\n      <th>0throw_5thcolumn</th>\n      <th>0throw_6thcolumn</th>\n      <th>0throw_7thcolumn</th>\n      <th>0throw_8thcolumn</th>\n      <th>0throw_9thcolumn</th>\n      <th>...</th>\n      <th>195throw_196thcolumn</th>\n      <th>195throw_197thcolumn</th>\n      <th>195throw_198thcolumn</th>\n      <th>195throw_199thcolumn</th>\n      <th>196throw_197thcolumn</th>\n      <th>196throw_198thcolumn</th>\n      <th>196throw_199thcolumn</th>\n      <th>197throw_198thcolumn</th>\n      <th>197throw_199thcolumn</th>\n      <th>198throw_199thcolumn</th>\n    </tr>\n  </thead>\n  <tbody>\n    <tr>\n      <th>0</th>\n      <td>70z8Q2xdTXM3</td>\n      <td>0.093473</td>\n      <td>0.146902</td>\n      <td>0.067893</td>\n      <td>0.015141</td>\n      <td>0.070221</td>\n      <td>0.063997</td>\n      <td>0.055382</td>\n      <td>-0.035335</td>\n      <td>0.068583</td>\n      <td>...</td>\n      <td>0.003404</td>\n      <td>-0.010359</td>\n      <td>-0.050968</td>\n      <td>-0.014365</td>\n      <td>0.128066</td>\n      <td>0.112646</td>\n      <td>-0.058980</td>\n      <td>0.028228</td>\n      <td>0.133582</td>\n      <td>0.143372</td>\n    </tr>\n    <tr>\n      <th>1</th>\n      <td>WHWymJu6zNZi</td>\n      <td>0.029580</td>\n      <td>0.179323</td>\n      <td>0.112933</td>\n      <td>0.038291</td>\n      <td>0.104899</td>\n      <td>0.064250</td>\n      <td>0.008488</td>\n      <td>0.077505</td>\n      <td>-0.004750</td>\n      <td>...</td>\n      <td>-0.008409</td>\n      <td>-0.008479</td>\n      <td>0.020891</td>\n      <td>0.017754</td>\n      <td>0.094040</td>\n      <td>0.035141</td>\n      <td>0.032537</td>\n      <td>0.075007</td>\n      <td>0.115350</td>\n      <td>0.138200</td>\n    </tr>\n    <tr>\n      <th>2</th>\n      <td>4PAQp1M6EyAo</td>\n      <td>-0.051580</td>\n      <td>0.139734</td>\n      <td>0.068295</td>\n      <td>0.046991</td>\n      <td>0.111085</td>\n      <td>0.026978</td>\n      <td>0.151377</td>\n      <td>0.021198</td>\n      <td>0.083721</td>\n      <td>...</td>\n      <td>0.053245</td>\n      <td>-0.028003</td>\n      <td>0.028773</td>\n      <td>0.024556</td>\n      <td>0.166343</td>\n      <td>0.058925</td>\n      <td>0.035485</td>\n      <td>0.063661</td>\n      <td>0.042862</td>\n      <td>0.162162</td>\n    </tr>\n    <tr>\n      <th>3</th>\n      <td>obEacy4Of68I</td>\n      <td>0.016273</td>\n      <td>0.204702</td>\n      <td>0.115980</td>\n      <td>0.043103</td>\n      <td>0.056431</td>\n      <td>0.057615</td>\n      <td>0.055773</td>\n      <td>0.075030</td>\n      <td>0.001033</td>\n      <td>...</td>\n      <td>-0.023918</td>\n      <td>-0.005356</td>\n      <td>0.018607</td>\n      <td>0.016193</td>\n      <td>0.072955</td>\n      <td>0.130135</td>\n      <td>0.056120</td>\n      <td>0.084784</td>\n      <td>0.114148</td>\n      <td>0.190584</td>\n    </tr>\n    <tr>\n      <th>4</th>\n      <td>s7WzzDcmDOhF</td>\n      <td>0.065771</td>\n      <td>0.098714</td>\n      <td>0.097604</td>\n      <td>0.112988</td>\n      <td>0.071139</td>\n      <td>0.085607</td>\n      <td>0.019392</td>\n      <td>-0.036403</td>\n      <td>-0.020375</td>\n      <td>...</td>\n      <td>0.066439</td>\n      <td>-0.076680</td>\n      <td>-0.047530</td>\n      <td>-0.031443</td>\n      <td>0.221213</td>\n      <td>0.007343</td>\n      <td>0.005763</td>\n      <td>0.083820</td>\n      <td>0.079582</td>\n      <td>0.067269</td>\n    </tr>\n  </tbody>\n</table>\n<p>5 rows × 19901 columns</p>\n</div>"
          },
          "metadata": {}
        }
      ],
      "execution_count": null
    },
    {
      "cell_type": "code",
      "source": [
        "train_functional.info()"
      ],
      "metadata": {
        "trusted": true,
        "colab": {
          "base_uri": "https://localhost:8080/"
        },
        "id": "alDLnrgcCwPm",
        "outputId": "b3e44803-bd0d-4547-e22b-1f1c1c0b6692",
        "execution": {
          "iopub.status.busy": "2025-03-22T09:56:13.092329Z",
          "iopub.execute_input": "2025-03-22T09:56:13.092621Z",
          "iopub.status.idle": "2025-03-22T09:56:13.878768Z",
          "shell.execute_reply.started": "2025-03-22T09:56:13.092596Z",
          "shell.execute_reply": "2025-03-22T09:56:13.877652Z"
        }
      },
      "outputs": [
        {
          "name": "stdout",
          "text": "<class 'pandas.core.frame.DataFrame'>\nRangeIndex: 1213 entries, 0 to 1212\nColumns: 19901 entries, participant_id to 198throw_199thcolumn\ndtypes: float64(19900), object(1)\nmemory usage: 184.2+ MB\n",
          "output_type": "stream"
        }
      ],
      "execution_count": null
    },
    {
      "cell_type": "code",
      "source": [
        "melt_df=pd.melt(train_functional, id_vars=['participant_id'], value_vars=train_functional.columns[1:], var_name=\"CONNECTOME_MATRICES\", value_name=\"value\")\n",
        "melt_df.head()"
      ],
      "metadata": {
        "trusted": true,
        "colab": {
          "base_uri": "https://localhost:8080/",
          "height": 206
        },
        "id": "oMPYHbUmCwPn",
        "outputId": "e6990cf3-44dc-4abd-d234-224afdc4734a",
        "execution": {
          "iopub.status.busy": "2025-03-22T09:56:13.879820Z",
          "iopub.execute_input": "2025-03-22T09:56:13.880178Z",
          "iopub.status.idle": "2025-03-22T09:56:17.048444Z",
          "shell.execute_reply.started": "2025-03-22T09:56:13.880146Z",
          "shell.execute_reply": "2025-03-22T09:56:17.047664Z"
        }
      },
      "outputs": [
        {
          "execution_count": 15,
          "output_type": "execute_result",
          "data": {
            "text/plain": "  participant_id CONNECTOME_MATRICES     value\n0   70z8Q2xdTXM3    0throw_1thcolumn  0.093473\n1   WHWymJu6zNZi    0throw_1thcolumn  0.029580\n2   4PAQp1M6EyAo    0throw_1thcolumn -0.051580\n3   obEacy4Of68I    0throw_1thcolumn  0.016273\n4   s7WzzDcmDOhF    0throw_1thcolumn  0.065771",
            "text/html": "<div>\n<style scoped>\n    .dataframe tbody tr th:only-of-type {\n        vertical-align: middle;\n    }\n\n    .dataframe tbody tr th {\n        vertical-align: top;\n    }\n\n    .dataframe thead th {\n        text-align: right;\n    }\n</style>\n<table border=\"1\" class=\"dataframe\">\n  <thead>\n    <tr style=\"text-align: right;\">\n      <th></th>\n      <th>participant_id</th>\n      <th>CONNECTOME_MATRICES</th>\n      <th>value</th>\n    </tr>\n  </thead>\n  <tbody>\n    <tr>\n      <th>0</th>\n      <td>70z8Q2xdTXM3</td>\n      <td>0throw_1thcolumn</td>\n      <td>0.093473</td>\n    </tr>\n    <tr>\n      <th>1</th>\n      <td>WHWymJu6zNZi</td>\n      <td>0throw_1thcolumn</td>\n      <td>0.029580</td>\n    </tr>\n    <tr>\n      <th>2</th>\n      <td>4PAQp1M6EyAo</td>\n      <td>0throw_1thcolumn</td>\n      <td>-0.051580</td>\n    </tr>\n    <tr>\n      <th>3</th>\n      <td>obEacy4Of68I</td>\n      <td>0throw_1thcolumn</td>\n      <td>0.016273</td>\n    </tr>\n    <tr>\n      <th>4</th>\n      <td>s7WzzDcmDOhF</td>\n      <td>0throw_1thcolumn</td>\n      <td>0.065771</td>\n    </tr>\n  </tbody>\n</table>\n</div>"
          },
          "metadata": {}
        }
      ],
      "execution_count": null
    },
    {
      "cell_type": "markdown",
      "source": [
        "# Merge Data a\n",
        "training_combined <--- train_categorical <---train_quantitative <--- training_functional"
      ],
      "metadata": {
        "id": "qMBsf686CwPn"
      }
    },
    {
      "cell_type": "code",
      "source": [
        "first_merge= pd.merge(train_functional, train_quantitative, on=\"participant_id\", how=\"inner\")\n",
        "first_merge.head()"
      ],
      "metadata": {
        "trusted": true,
        "colab": {
          "base_uri": "https://localhost:8080/",
          "height": 255
        },
        "id": "WCdomHk2CwPn",
        "outputId": "d5c1aa20-a42f-4bd8-833e-0c6e7b41cdc0",
        "execution": {
          "iopub.status.busy": "2025-03-22T09:56:17.049309Z",
          "iopub.execute_input": "2025-03-22T09:56:17.049706Z",
          "iopub.status.idle": "2025-03-22T09:56:17.147161Z",
          "shell.execute_reply.started": "2025-03-22T09:56:17.049671Z",
          "shell.execute_reply": "2025-03-22T09:56:17.146372Z"
        }
      },
      "outputs": [
        {
          "name": "stderr",
          "text": "/usr/local/lib/python3.10/dist-packages/pandas/io/formats/format.py:1458: RuntimeWarning: invalid value encountered in greater\n  has_large_values = (abs_vals > 1e6).any()\n/usr/local/lib/python3.10/dist-packages/pandas/io/formats/format.py:1459: RuntimeWarning: invalid value encountered in less\n  has_small_values = ((abs_vals < 10 ** (-self.digits)) & (abs_vals > 0)).any()\n/usr/local/lib/python3.10/dist-packages/pandas/io/formats/format.py:1459: RuntimeWarning: invalid value encountered in greater\n  has_small_values = ((abs_vals < 10 ** (-self.digits)) & (abs_vals > 0)).any()\n/usr/local/lib/python3.10/dist-packages/pandas/io/formats/format.py:1458: RuntimeWarning: invalid value encountered in greater\n  has_large_values = (abs_vals > 1e6).any()\n/usr/local/lib/python3.10/dist-packages/pandas/io/formats/format.py:1459: RuntimeWarning: invalid value encountered in less\n  has_small_values = ((abs_vals < 10 ** (-self.digits)) & (abs_vals > 0)).any()\n/usr/local/lib/python3.10/dist-packages/pandas/io/formats/format.py:1459: RuntimeWarning: invalid value encountered in greater\n  has_small_values = ((abs_vals < 10 ** (-self.digits)) & (abs_vals > 0)).any()\n",
          "output_type": "stream"
        },
        {
          "execution_count": 16,
          "output_type": "execute_result",
          "data": {
            "text/plain": "  participant_id  0throw_1thcolumn  0throw_2thcolumn  0throw_3thcolumn  \\\n0   70z8Q2xdTXM3          0.093473          0.146902          0.067893   \n1   WHWymJu6zNZi          0.029580          0.179323          0.112933   \n2   4PAQp1M6EyAo         -0.051580          0.139734          0.068295   \n3   obEacy4Of68I          0.016273          0.204702          0.115980   \n4   s7WzzDcmDOhF          0.065771          0.098714          0.097604   \n\n   0throw_4thcolumn  0throw_5thcolumn  0throw_6thcolumn  0throw_7thcolumn  \\\n0          0.015141          0.070221          0.063997          0.055382   \n1          0.038291          0.104899          0.064250          0.008488   \n2          0.046991          0.111085          0.026978          0.151377   \n3          0.043103          0.056431          0.057615          0.055773   \n4          0.112988          0.071139          0.085607          0.019392   \n\n   0throw_8thcolumn  0throw_9thcolumn  ...  SDQ_SDQ_Conduct_Problems  \\\n0         -0.035335          0.068583  ...                         0   \n1          0.077505         -0.004750  ...                         0   \n2          0.021198          0.083721  ...                         8   \n3          0.075030          0.001033  ...                         0   \n4         -0.036403         -0.020375  ...                         3   \n\n   SDQ_SDQ_Difficulties_Total  SDQ_SDQ_Emotional_Problems  \\\n0                           8                           1   \n1                           0                           0   \n2                          26                           4   \n3                           7                           2   \n4                          14                           3   \n\n   SDQ_SDQ_Externalizing  SDQ_SDQ_Generating_Impact  SDQ_SDQ_Hyperactivity  \\\n0                      4                          5                      4   \n1                      0                          0                      0   \n2                     17                          8                      9   \n3                      4                          1                      4   \n4                      6                          3                      3   \n\n   SDQ_SDQ_Internalizing  SDQ_SDQ_Peer_Problems  SDQ_SDQ_Prosocial  \\\n0                      4                      3                  9   \n1                      0                      0                  0   \n2                      9                      5                  8   \n3                      3                      1                 10   \n4                      8                      5                  6   \n\n   MRI_Track_Age_at_Scan  \n0              11.889002  \n1               7.670088  \n2               7.743896  \n3                    NaN  \n4                    NaN  \n\n[5 rows x 19919 columns]",
            "text/html": "<div>\n<style scoped>\n    .dataframe tbody tr th:only-of-type {\n        vertical-align: middle;\n    }\n\n    .dataframe tbody tr th {\n        vertical-align: top;\n    }\n\n    .dataframe thead th {\n        text-align: right;\n    }\n</style>\n<table border=\"1\" class=\"dataframe\">\n  <thead>\n    <tr style=\"text-align: right;\">\n      <th></th>\n      <th>participant_id</th>\n      <th>0throw_1thcolumn</th>\n      <th>0throw_2thcolumn</th>\n      <th>0throw_3thcolumn</th>\n      <th>0throw_4thcolumn</th>\n      <th>0throw_5thcolumn</th>\n      <th>0throw_6thcolumn</th>\n      <th>0throw_7thcolumn</th>\n      <th>0throw_8thcolumn</th>\n      <th>0throw_9thcolumn</th>\n      <th>...</th>\n      <th>SDQ_SDQ_Conduct_Problems</th>\n      <th>SDQ_SDQ_Difficulties_Total</th>\n      <th>SDQ_SDQ_Emotional_Problems</th>\n      <th>SDQ_SDQ_Externalizing</th>\n      <th>SDQ_SDQ_Generating_Impact</th>\n      <th>SDQ_SDQ_Hyperactivity</th>\n      <th>SDQ_SDQ_Internalizing</th>\n      <th>SDQ_SDQ_Peer_Problems</th>\n      <th>SDQ_SDQ_Prosocial</th>\n      <th>MRI_Track_Age_at_Scan</th>\n    </tr>\n  </thead>\n  <tbody>\n    <tr>\n      <th>0</th>\n      <td>70z8Q2xdTXM3</td>\n      <td>0.093473</td>\n      <td>0.146902</td>\n      <td>0.067893</td>\n      <td>0.015141</td>\n      <td>0.070221</td>\n      <td>0.063997</td>\n      <td>0.055382</td>\n      <td>-0.035335</td>\n      <td>0.068583</td>\n      <td>...</td>\n      <td>0</td>\n      <td>8</td>\n      <td>1</td>\n      <td>4</td>\n      <td>5</td>\n      <td>4</td>\n      <td>4</td>\n      <td>3</td>\n      <td>9</td>\n      <td>11.889002</td>\n    </tr>\n    <tr>\n      <th>1</th>\n      <td>WHWymJu6zNZi</td>\n      <td>0.029580</td>\n      <td>0.179323</td>\n      <td>0.112933</td>\n      <td>0.038291</td>\n      <td>0.104899</td>\n      <td>0.064250</td>\n      <td>0.008488</td>\n      <td>0.077505</td>\n      <td>-0.004750</td>\n      <td>...</td>\n      <td>0</td>\n      <td>0</td>\n      <td>0</td>\n      <td>0</td>\n      <td>0</td>\n      <td>0</td>\n      <td>0</td>\n      <td>0</td>\n      <td>0</td>\n      <td>7.670088</td>\n    </tr>\n    <tr>\n      <th>2</th>\n      <td>4PAQp1M6EyAo</td>\n      <td>-0.051580</td>\n      <td>0.139734</td>\n      <td>0.068295</td>\n      <td>0.046991</td>\n      <td>0.111085</td>\n      <td>0.026978</td>\n      <td>0.151377</td>\n      <td>0.021198</td>\n      <td>0.083721</td>\n      <td>...</td>\n      <td>8</td>\n      <td>26</td>\n      <td>4</td>\n      <td>17</td>\n      <td>8</td>\n      <td>9</td>\n      <td>9</td>\n      <td>5</td>\n      <td>8</td>\n      <td>7.743896</td>\n    </tr>\n    <tr>\n      <th>3</th>\n      <td>obEacy4Of68I</td>\n      <td>0.016273</td>\n      <td>0.204702</td>\n      <td>0.115980</td>\n      <td>0.043103</td>\n      <td>0.056431</td>\n      <td>0.057615</td>\n      <td>0.055773</td>\n      <td>0.075030</td>\n      <td>0.001033</td>\n      <td>...</td>\n      <td>0</td>\n      <td>7</td>\n      <td>2</td>\n      <td>4</td>\n      <td>1</td>\n      <td>4</td>\n      <td>3</td>\n      <td>1</td>\n      <td>10</td>\n      <td>NaN</td>\n    </tr>\n    <tr>\n      <th>4</th>\n      <td>s7WzzDcmDOhF</td>\n      <td>0.065771</td>\n      <td>0.098714</td>\n      <td>0.097604</td>\n      <td>0.112988</td>\n      <td>0.071139</td>\n      <td>0.085607</td>\n      <td>0.019392</td>\n      <td>-0.036403</td>\n      <td>-0.020375</td>\n      <td>...</td>\n      <td>3</td>\n      <td>14</td>\n      <td>3</td>\n      <td>6</td>\n      <td>3</td>\n      <td>3</td>\n      <td>8</td>\n      <td>5</td>\n      <td>6</td>\n      <td>NaN</td>\n    </tr>\n  </tbody>\n</table>\n<p>5 rows × 19919 columns</p>\n</div>"
          },
          "metadata": {}
        }
      ],
      "execution_count": null
    },
    {
      "cell_type": "code",
      "source": [
        "second_merge= pd.merge(first_merge, train_categorical, on=\"participant_id\", how=\"inner\")\n",
        "second_merge.head()"
      ],
      "metadata": {
        "trusted": true,
        "colab": {
          "base_uri": "https://localhost:8080/",
          "height": 255
        },
        "id": "at7Nm1HOCwPn",
        "outputId": "0ddc3b69-6b3a-4606-e3fd-5ee72443c8d9",
        "execution": {
          "iopub.status.busy": "2025-03-22T09:56:17.148111Z",
          "iopub.execute_input": "2025-03-22T09:56:17.148453Z",
          "iopub.status.idle": "2025-03-22T09:56:17.376903Z",
          "shell.execute_reply.started": "2025-03-22T09:56:17.148410Z",
          "shell.execute_reply": "2025-03-22T09:56:17.375857Z"
        }
      },
      "outputs": [
        {
          "name": "stderr",
          "text": "/usr/local/lib/python3.10/dist-packages/pandas/io/formats/format.py:1458: RuntimeWarning: invalid value encountered in greater\n  has_large_values = (abs_vals > 1e6).any()\n/usr/local/lib/python3.10/dist-packages/pandas/io/formats/format.py:1459: RuntimeWarning: invalid value encountered in less\n  has_small_values = ((abs_vals < 10 ** (-self.digits)) & (abs_vals > 0)).any()\n/usr/local/lib/python3.10/dist-packages/pandas/io/formats/format.py:1459: RuntimeWarning: invalid value encountered in greater\n  has_small_values = ((abs_vals < 10 ** (-self.digits)) & (abs_vals > 0)).any()\n/usr/local/lib/python3.10/dist-packages/pandas/io/formats/format.py:1458: RuntimeWarning: invalid value encountered in greater\n  has_large_values = (abs_vals > 1e6).any()\n/usr/local/lib/python3.10/dist-packages/pandas/io/formats/format.py:1459: RuntimeWarning: invalid value encountered in less\n  has_small_values = ((abs_vals < 10 ** (-self.digits)) & (abs_vals > 0)).any()\n/usr/local/lib/python3.10/dist-packages/pandas/io/formats/format.py:1459: RuntimeWarning: invalid value encountered in greater\n  has_small_values = ((abs_vals < 10 ** (-self.digits)) & (abs_vals > 0)).any()\n",
          "output_type": "stream"
        },
        {
          "execution_count": 17,
          "output_type": "execute_result",
          "data": {
            "text/plain": "  participant_id  0throw_1thcolumn  0throw_2thcolumn  0throw_3thcolumn  \\\n0   70z8Q2xdTXM3          0.093473          0.146902          0.067893   \n1   WHWymJu6zNZi          0.029580          0.179323          0.112933   \n2   4PAQp1M6EyAo         -0.051580          0.139734          0.068295   \n3   obEacy4Of68I          0.016273          0.204702          0.115980   \n4   s7WzzDcmDOhF          0.065771          0.098714          0.097604   \n\n   0throw_4thcolumn  0throw_5thcolumn  0throw_6thcolumn  0throw_7thcolumn  \\\n0          0.015141          0.070221          0.063997          0.055382   \n1          0.038291          0.104899          0.064250          0.008488   \n2          0.046991          0.111085          0.026978          0.151377   \n3          0.043103          0.056431          0.057615          0.055773   \n4          0.112988          0.071139          0.085607          0.019392   \n\n   0throw_8thcolumn  0throw_9thcolumn  ...  MRI_Track_Age_at_Scan  \\\n0         -0.035335          0.068583  ...              11.889002   \n1          0.077505         -0.004750  ...               7.670088   \n2          0.021198          0.083721  ...               7.743896   \n3          0.075030          0.001033  ...                    NaN   \n4         -0.036403         -0.020375  ...                    NaN   \n\n   Basic_Demos_Enroll_Year  Basic_Demos_Study_Site  \\\n0                     2018                       1   \n1                     2015                       1   \n2                     2019                       1   \n3                     2017                       1   \n4                     2019                       1   \n\n   PreInt_Demos_Fam_Child_Ethnicity  PreInt_Demos_Fam_Child_Race  \\\n0                               0.0                            1   \n1                               1.0                            8   \n2                               0.0                            0   \n3                               0.0                            0   \n4                               2.0                            8   \n\n   MRI_Track_Scan_Location  Barratt_Barratt_P1_Edu  Barratt_Barratt_P1_Occ  \\\n0                        2                      21                      45   \n1                        1                       6                       5   \n2                        2                      18                      35   \n3                        2                      21                      40   \n4                        2                       9                      35   \n\n   Barratt_Barratt_P2_Edu  Barratt_Barratt_P2_Occ  \n0                      21                      45  \n1                       0                      15  \n2                       9                      20  \n3                      21                      40  \n4                       0                       0  \n\n[5 rows x 19928 columns]",
            "text/html": "<div>\n<style scoped>\n    .dataframe tbody tr th:only-of-type {\n        vertical-align: middle;\n    }\n\n    .dataframe tbody tr th {\n        vertical-align: top;\n    }\n\n    .dataframe thead th {\n        text-align: right;\n    }\n</style>\n<table border=\"1\" class=\"dataframe\">\n  <thead>\n    <tr style=\"text-align: right;\">\n      <th></th>\n      <th>participant_id</th>\n      <th>0throw_1thcolumn</th>\n      <th>0throw_2thcolumn</th>\n      <th>0throw_3thcolumn</th>\n      <th>0throw_4thcolumn</th>\n      <th>0throw_5thcolumn</th>\n      <th>0throw_6thcolumn</th>\n      <th>0throw_7thcolumn</th>\n      <th>0throw_8thcolumn</th>\n      <th>0throw_9thcolumn</th>\n      <th>...</th>\n      <th>MRI_Track_Age_at_Scan</th>\n      <th>Basic_Demos_Enroll_Year</th>\n      <th>Basic_Demos_Study_Site</th>\n      <th>PreInt_Demos_Fam_Child_Ethnicity</th>\n      <th>PreInt_Demos_Fam_Child_Race</th>\n      <th>MRI_Track_Scan_Location</th>\n      <th>Barratt_Barratt_P1_Edu</th>\n      <th>Barratt_Barratt_P1_Occ</th>\n      <th>Barratt_Barratt_P2_Edu</th>\n      <th>Barratt_Barratt_P2_Occ</th>\n    </tr>\n  </thead>\n  <tbody>\n    <tr>\n      <th>0</th>\n      <td>70z8Q2xdTXM3</td>\n      <td>0.093473</td>\n      <td>0.146902</td>\n      <td>0.067893</td>\n      <td>0.015141</td>\n      <td>0.070221</td>\n      <td>0.063997</td>\n      <td>0.055382</td>\n      <td>-0.035335</td>\n      <td>0.068583</td>\n      <td>...</td>\n      <td>11.889002</td>\n      <td>2018</td>\n      <td>1</td>\n      <td>0.0</td>\n      <td>1</td>\n      <td>2</td>\n      <td>21</td>\n      <td>45</td>\n      <td>21</td>\n      <td>45</td>\n    </tr>\n    <tr>\n      <th>1</th>\n      <td>WHWymJu6zNZi</td>\n      <td>0.029580</td>\n      <td>0.179323</td>\n      <td>0.112933</td>\n      <td>0.038291</td>\n      <td>0.104899</td>\n      <td>0.064250</td>\n      <td>0.008488</td>\n      <td>0.077505</td>\n      <td>-0.004750</td>\n      <td>...</td>\n      <td>7.670088</td>\n      <td>2015</td>\n      <td>1</td>\n      <td>1.0</td>\n      <td>8</td>\n      <td>1</td>\n      <td>6</td>\n      <td>5</td>\n      <td>0</td>\n      <td>15</td>\n    </tr>\n    <tr>\n      <th>2</th>\n      <td>4PAQp1M6EyAo</td>\n      <td>-0.051580</td>\n      <td>0.139734</td>\n      <td>0.068295</td>\n      <td>0.046991</td>\n      <td>0.111085</td>\n      <td>0.026978</td>\n      <td>0.151377</td>\n      <td>0.021198</td>\n      <td>0.083721</td>\n      <td>...</td>\n      <td>7.743896</td>\n      <td>2019</td>\n      <td>1</td>\n      <td>0.0</td>\n      <td>0</td>\n      <td>2</td>\n      <td>18</td>\n      <td>35</td>\n      <td>9</td>\n      <td>20</td>\n    </tr>\n    <tr>\n      <th>3</th>\n      <td>obEacy4Of68I</td>\n      <td>0.016273</td>\n      <td>0.204702</td>\n      <td>0.115980</td>\n      <td>0.043103</td>\n      <td>0.056431</td>\n      <td>0.057615</td>\n      <td>0.055773</td>\n      <td>0.075030</td>\n      <td>0.001033</td>\n      <td>...</td>\n      <td>NaN</td>\n      <td>2017</td>\n      <td>1</td>\n      <td>0.0</td>\n      <td>0</td>\n      <td>2</td>\n      <td>21</td>\n      <td>40</td>\n      <td>21</td>\n      <td>40</td>\n    </tr>\n    <tr>\n      <th>4</th>\n      <td>s7WzzDcmDOhF</td>\n      <td>0.065771</td>\n      <td>0.098714</td>\n      <td>0.097604</td>\n      <td>0.112988</td>\n      <td>0.071139</td>\n      <td>0.085607</td>\n      <td>0.019392</td>\n      <td>-0.036403</td>\n      <td>-0.020375</td>\n      <td>...</td>\n      <td>NaN</td>\n      <td>2019</td>\n      <td>1</td>\n      <td>2.0</td>\n      <td>8</td>\n      <td>2</td>\n      <td>9</td>\n      <td>35</td>\n      <td>0</td>\n      <td>0</td>\n    </tr>\n  </tbody>\n</table>\n<p>5 rows × 19928 columns</p>\n</div>"
          },
          "metadata": {}
        }
      ],
      "execution_count": null
    },
    {
      "cell_type": "code",
      "source": [
        "final_merge= pd.merge(second_merge, training_combined, on=\"participant_id\", how=\"inner\")\n",
        "final_merge.head()"
      ],
      "metadata": {
        "trusted": true,
        "colab": {
          "base_uri": "https://localhost:8080/",
          "height": 255
        },
        "id": "EHRb1g6xCwPn",
        "outputId": "8747c25a-5a6e-4e6a-c2cf-97c9a3c52c55",
        "execution": {
          "iopub.status.busy": "2025-03-22T09:56:17.377944Z",
          "iopub.execute_input": "2025-03-22T09:56:17.378290Z",
          "iopub.status.idle": "2025-03-22T09:56:17.609810Z",
          "shell.execute_reply.started": "2025-03-22T09:56:17.378258Z",
          "shell.execute_reply": "2025-03-22T09:56:17.609035Z"
        }
      },
      "outputs": [
        {
          "execution_count": 18,
          "output_type": "execute_result",
          "data": {
            "text/plain": "  participant_id  0throw_1thcolumn  0throw_2thcolumn  0throw_3thcolumn  \\\n0   70z8Q2xdTXM3          0.093473          0.146902          0.067893   \n1   WHWymJu6zNZi          0.029580          0.179323          0.112933   \n2   4PAQp1M6EyAo         -0.051580          0.139734          0.068295   \n3   obEacy4Of68I          0.016273          0.204702          0.115980   \n4   s7WzzDcmDOhF          0.065771          0.098714          0.097604   \n\n   0throw_4thcolumn  0throw_5thcolumn  0throw_6thcolumn  0throw_7thcolumn  \\\n0          0.015141          0.070221          0.063997          0.055382   \n1          0.038291          0.104899          0.064250          0.008488   \n2          0.046991          0.111085          0.026978          0.151377   \n3          0.043103          0.056431          0.057615          0.055773   \n4          0.112988          0.071139          0.085607          0.019392   \n\n   0throw_8thcolumn  0throw_9thcolumn  ...  Basic_Demos_Study_Site  \\\n0         -0.035335          0.068583  ...                       1   \n1          0.077505         -0.004750  ...                       1   \n2          0.021198          0.083721  ...                       1   \n3          0.075030          0.001033  ...                       1   \n4         -0.036403         -0.020375  ...                       1   \n\n   PreInt_Demos_Fam_Child_Ethnicity  PreInt_Demos_Fam_Child_Race  \\\n0                               0.0                            1   \n1                               1.0                            8   \n2                               0.0                            0   \n3                               0.0                            0   \n4                               2.0                            8   \n\n   MRI_Track_Scan_Location  Barratt_Barratt_P1_Edu  Barratt_Barratt_P1_Occ  \\\n0                        2                      21                      45   \n1                        1                       6                       5   \n2                        2                      18                      35   \n3                        2                      21                      40   \n4                        2                       9                      35   \n\n   Barratt_Barratt_P2_Edu  Barratt_Barratt_P2_Occ  ADHD_Outcome  Sex_F  \n0                      21                      45             1      0  \n1                       0                      15             1      1  \n2                       9                      20             1      1  \n3                      21                      40             1      1  \n4                       0                       0             1      1  \n\n[5 rows x 19930 columns]",
            "text/html": "<div>\n<style scoped>\n    .dataframe tbody tr th:only-of-type {\n        vertical-align: middle;\n    }\n\n    .dataframe tbody tr th {\n        vertical-align: top;\n    }\n\n    .dataframe thead th {\n        text-align: right;\n    }\n</style>\n<table border=\"1\" class=\"dataframe\">\n  <thead>\n    <tr style=\"text-align: right;\">\n      <th></th>\n      <th>participant_id</th>\n      <th>0throw_1thcolumn</th>\n      <th>0throw_2thcolumn</th>\n      <th>0throw_3thcolumn</th>\n      <th>0throw_4thcolumn</th>\n      <th>0throw_5thcolumn</th>\n      <th>0throw_6thcolumn</th>\n      <th>0throw_7thcolumn</th>\n      <th>0throw_8thcolumn</th>\n      <th>0throw_9thcolumn</th>\n      <th>...</th>\n      <th>Basic_Demos_Study_Site</th>\n      <th>PreInt_Demos_Fam_Child_Ethnicity</th>\n      <th>PreInt_Demos_Fam_Child_Race</th>\n      <th>MRI_Track_Scan_Location</th>\n      <th>Barratt_Barratt_P1_Edu</th>\n      <th>Barratt_Barratt_P1_Occ</th>\n      <th>Barratt_Barratt_P2_Edu</th>\n      <th>Barratt_Barratt_P2_Occ</th>\n      <th>ADHD_Outcome</th>\n      <th>Sex_F</th>\n    </tr>\n  </thead>\n  <tbody>\n    <tr>\n      <th>0</th>\n      <td>70z8Q2xdTXM3</td>\n      <td>0.093473</td>\n      <td>0.146902</td>\n      <td>0.067893</td>\n      <td>0.015141</td>\n      <td>0.070221</td>\n      <td>0.063997</td>\n      <td>0.055382</td>\n      <td>-0.035335</td>\n      <td>0.068583</td>\n      <td>...</td>\n      <td>1</td>\n      <td>0.0</td>\n      <td>1</td>\n      <td>2</td>\n      <td>21</td>\n      <td>45</td>\n      <td>21</td>\n      <td>45</td>\n      <td>1</td>\n      <td>0</td>\n    </tr>\n    <tr>\n      <th>1</th>\n      <td>WHWymJu6zNZi</td>\n      <td>0.029580</td>\n      <td>0.179323</td>\n      <td>0.112933</td>\n      <td>0.038291</td>\n      <td>0.104899</td>\n      <td>0.064250</td>\n      <td>0.008488</td>\n      <td>0.077505</td>\n      <td>-0.004750</td>\n      <td>...</td>\n      <td>1</td>\n      <td>1.0</td>\n      <td>8</td>\n      <td>1</td>\n      <td>6</td>\n      <td>5</td>\n      <td>0</td>\n      <td>15</td>\n      <td>1</td>\n      <td>1</td>\n    </tr>\n    <tr>\n      <th>2</th>\n      <td>4PAQp1M6EyAo</td>\n      <td>-0.051580</td>\n      <td>0.139734</td>\n      <td>0.068295</td>\n      <td>0.046991</td>\n      <td>0.111085</td>\n      <td>0.026978</td>\n      <td>0.151377</td>\n      <td>0.021198</td>\n      <td>0.083721</td>\n      <td>...</td>\n      <td>1</td>\n      <td>0.0</td>\n      <td>0</td>\n      <td>2</td>\n      <td>18</td>\n      <td>35</td>\n      <td>9</td>\n      <td>20</td>\n      <td>1</td>\n      <td>1</td>\n    </tr>\n    <tr>\n      <th>3</th>\n      <td>obEacy4Of68I</td>\n      <td>0.016273</td>\n      <td>0.204702</td>\n      <td>0.115980</td>\n      <td>0.043103</td>\n      <td>0.056431</td>\n      <td>0.057615</td>\n      <td>0.055773</td>\n      <td>0.075030</td>\n      <td>0.001033</td>\n      <td>...</td>\n      <td>1</td>\n      <td>0.0</td>\n      <td>0</td>\n      <td>2</td>\n      <td>21</td>\n      <td>40</td>\n      <td>21</td>\n      <td>40</td>\n      <td>1</td>\n      <td>1</td>\n    </tr>\n    <tr>\n      <th>4</th>\n      <td>s7WzzDcmDOhF</td>\n      <td>0.065771</td>\n      <td>0.098714</td>\n      <td>0.097604</td>\n      <td>0.112988</td>\n      <td>0.071139</td>\n      <td>0.085607</td>\n      <td>0.019392</td>\n      <td>-0.036403</td>\n      <td>-0.020375</td>\n      <td>...</td>\n      <td>1</td>\n      <td>2.0</td>\n      <td>8</td>\n      <td>2</td>\n      <td>9</td>\n      <td>35</td>\n      <td>0</td>\n      <td>0</td>\n      <td>1</td>\n      <td>1</td>\n    </tr>\n  </tbody>\n</table>\n<p>5 rows × 19930 columns</p>\n</div>"
          },
          "metadata": {}
        }
      ],
      "execution_count": null
    },
    {
      "cell_type": "code",
      "source": [
        "final_merge.drop(columns=[\"participant_id\"], inplace=True)\n",
        "final_merge.head()"
      ],
      "metadata": {
        "trusted": true,
        "colab": {
          "base_uri": "https://localhost:8080/",
          "height": 255
        },
        "id": "0Ji4KPaeCwPn",
        "outputId": "6ac57803-ad8b-4649-8e4a-c57e0d529e43",
        "execution": {
          "iopub.status.busy": "2025-03-22T09:56:17.610715Z",
          "iopub.execute_input": "2025-03-22T09:56:17.610979Z",
          "iopub.status.idle": "2025-03-22T09:56:17.693868Z",
          "shell.execute_reply.started": "2025-03-22T09:56:17.610958Z",
          "shell.execute_reply": "2025-03-22T09:56:17.692921Z"
        }
      },
      "outputs": [
        {
          "execution_count": 19,
          "output_type": "execute_result",
          "data": {
            "text/plain": "   0throw_1thcolumn  0throw_2thcolumn  0throw_3thcolumn  0throw_4thcolumn  \\\n0          0.093473          0.146902          0.067893          0.015141   \n1          0.029580          0.179323          0.112933          0.038291   \n2         -0.051580          0.139734          0.068295          0.046991   \n3          0.016273          0.204702          0.115980          0.043103   \n4          0.065771          0.098714          0.097604          0.112988   \n\n   0throw_5thcolumn  0throw_6thcolumn  0throw_7thcolumn  0throw_8thcolumn  \\\n0          0.070221          0.063997          0.055382         -0.035335   \n1          0.104899          0.064250          0.008488          0.077505   \n2          0.111085          0.026978          0.151377          0.021198   \n3          0.056431          0.057615          0.055773          0.075030   \n4          0.071139          0.085607          0.019392         -0.036403   \n\n   0throw_9thcolumn  0throw_10thcolumn  ...  Basic_Demos_Study_Site  \\\n0          0.068583           0.029271  ...                       1   \n1         -0.004750          -0.035073  ...                       1   \n2          0.083721          -0.014275  ...                       1   \n3          0.001033          -0.064031  ...                       1   \n4         -0.020375           0.005426  ...                       1   \n\n   PreInt_Demos_Fam_Child_Ethnicity  PreInt_Demos_Fam_Child_Race  \\\n0                               0.0                            1   \n1                               1.0                            8   \n2                               0.0                            0   \n3                               0.0                            0   \n4                               2.0                            8   \n\n   MRI_Track_Scan_Location  Barratt_Barratt_P1_Edu  Barratt_Barratt_P1_Occ  \\\n0                        2                      21                      45   \n1                        1                       6                       5   \n2                        2                      18                      35   \n3                        2                      21                      40   \n4                        2                       9                      35   \n\n   Barratt_Barratt_P2_Edu  Barratt_Barratt_P2_Occ  ADHD_Outcome  Sex_F  \n0                      21                      45             1      0  \n1                       0                      15             1      1  \n2                       9                      20             1      1  \n3                      21                      40             1      1  \n4                       0                       0             1      1  \n\n[5 rows x 19929 columns]",
            "text/html": "<div>\n<style scoped>\n    .dataframe tbody tr th:only-of-type {\n        vertical-align: middle;\n    }\n\n    .dataframe tbody tr th {\n        vertical-align: top;\n    }\n\n    .dataframe thead th {\n        text-align: right;\n    }\n</style>\n<table border=\"1\" class=\"dataframe\">\n  <thead>\n    <tr style=\"text-align: right;\">\n      <th></th>\n      <th>0throw_1thcolumn</th>\n      <th>0throw_2thcolumn</th>\n      <th>0throw_3thcolumn</th>\n      <th>0throw_4thcolumn</th>\n      <th>0throw_5thcolumn</th>\n      <th>0throw_6thcolumn</th>\n      <th>0throw_7thcolumn</th>\n      <th>0throw_8thcolumn</th>\n      <th>0throw_9thcolumn</th>\n      <th>0throw_10thcolumn</th>\n      <th>...</th>\n      <th>Basic_Demos_Study_Site</th>\n      <th>PreInt_Demos_Fam_Child_Ethnicity</th>\n      <th>PreInt_Demos_Fam_Child_Race</th>\n      <th>MRI_Track_Scan_Location</th>\n      <th>Barratt_Barratt_P1_Edu</th>\n      <th>Barratt_Barratt_P1_Occ</th>\n      <th>Barratt_Barratt_P2_Edu</th>\n      <th>Barratt_Barratt_P2_Occ</th>\n      <th>ADHD_Outcome</th>\n      <th>Sex_F</th>\n    </tr>\n  </thead>\n  <tbody>\n    <tr>\n      <th>0</th>\n      <td>0.093473</td>\n      <td>0.146902</td>\n      <td>0.067893</td>\n      <td>0.015141</td>\n      <td>0.070221</td>\n      <td>0.063997</td>\n      <td>0.055382</td>\n      <td>-0.035335</td>\n      <td>0.068583</td>\n      <td>0.029271</td>\n      <td>...</td>\n      <td>1</td>\n      <td>0.0</td>\n      <td>1</td>\n      <td>2</td>\n      <td>21</td>\n      <td>45</td>\n      <td>21</td>\n      <td>45</td>\n      <td>1</td>\n      <td>0</td>\n    </tr>\n    <tr>\n      <th>1</th>\n      <td>0.029580</td>\n      <td>0.179323</td>\n      <td>0.112933</td>\n      <td>0.038291</td>\n      <td>0.104899</td>\n      <td>0.064250</td>\n      <td>0.008488</td>\n      <td>0.077505</td>\n      <td>-0.004750</td>\n      <td>-0.035073</td>\n      <td>...</td>\n      <td>1</td>\n      <td>1.0</td>\n      <td>8</td>\n      <td>1</td>\n      <td>6</td>\n      <td>5</td>\n      <td>0</td>\n      <td>15</td>\n      <td>1</td>\n      <td>1</td>\n    </tr>\n    <tr>\n      <th>2</th>\n      <td>-0.051580</td>\n      <td>0.139734</td>\n      <td>0.068295</td>\n      <td>0.046991</td>\n      <td>0.111085</td>\n      <td>0.026978</td>\n      <td>0.151377</td>\n      <td>0.021198</td>\n      <td>0.083721</td>\n      <td>-0.014275</td>\n      <td>...</td>\n      <td>1</td>\n      <td>0.0</td>\n      <td>0</td>\n      <td>2</td>\n      <td>18</td>\n      <td>35</td>\n      <td>9</td>\n      <td>20</td>\n      <td>1</td>\n      <td>1</td>\n    </tr>\n    <tr>\n      <th>3</th>\n      <td>0.016273</td>\n      <td>0.204702</td>\n      <td>0.115980</td>\n      <td>0.043103</td>\n      <td>0.056431</td>\n      <td>0.057615</td>\n      <td>0.055773</td>\n      <td>0.075030</td>\n      <td>0.001033</td>\n      <td>-0.064031</td>\n      <td>...</td>\n      <td>1</td>\n      <td>0.0</td>\n      <td>0</td>\n      <td>2</td>\n      <td>21</td>\n      <td>40</td>\n      <td>21</td>\n      <td>40</td>\n      <td>1</td>\n      <td>1</td>\n    </tr>\n    <tr>\n      <th>4</th>\n      <td>0.065771</td>\n      <td>0.098714</td>\n      <td>0.097604</td>\n      <td>0.112988</td>\n      <td>0.071139</td>\n      <td>0.085607</td>\n      <td>0.019392</td>\n      <td>-0.036403</td>\n      <td>-0.020375</td>\n      <td>0.005426</td>\n      <td>...</td>\n      <td>1</td>\n      <td>2.0</td>\n      <td>8</td>\n      <td>2</td>\n      <td>9</td>\n      <td>35</td>\n      <td>0</td>\n      <td>0</td>\n      <td>1</td>\n      <td>1</td>\n    </tr>\n  </tbody>\n</table>\n<p>5 rows × 19929 columns</p>\n</div>"
          },
          "metadata": {}
        }
      ],
      "execution_count": null
    },
    {
      "cell_type": "code",
      "source": [
        "final_merge.dropna(inplace=True)\n",
        "final_merge.head()"
      ],
      "metadata": {
        "colab": {
          "base_uri": "https://localhost:8080/",
          "height": 255
        },
        "id": "Ufx7y_BfJgut",
        "outputId": "5a019131-90ec-4857-edea-7c94940972b4",
        "trusted": true,
        "execution": {
          "iopub.status.busy": "2025-03-22T09:56:17.694825Z",
          "iopub.execute_input": "2025-03-22T09:56:17.695132Z",
          "iopub.status.idle": "2025-03-22T09:56:17.825656Z",
          "shell.execute_reply.started": "2025-03-22T09:56:17.695108Z",
          "shell.execute_reply": "2025-03-22T09:56:17.824653Z"
        }
      },
      "outputs": [
        {
          "execution_count": 20,
          "output_type": "execute_result",
          "data": {
            "text/plain": "   0throw_1thcolumn  0throw_2thcolumn  0throw_3thcolumn  0throw_4thcolumn  \\\n0          0.093473          0.146902          0.067893          0.015141   \n1          0.029580          0.179323          0.112933          0.038291   \n2         -0.051580          0.139734          0.068295          0.046991   \n6          0.045489          0.080887          0.073523          0.051792   \n7          0.063175          0.043360          0.096523          0.070671   \n\n   0throw_5thcolumn  0throw_6thcolumn  0throw_7thcolumn  0throw_8thcolumn  \\\n0          0.070221          0.063997          0.055382         -0.035335   \n1          0.104899          0.064250          0.008488          0.077505   \n2          0.111085          0.026978          0.151377          0.021198   \n6          0.024821          0.083677          0.094708         -0.140014   \n7          0.126199          0.048935          0.099142          0.081876   \n\n   0throw_9thcolumn  0throw_10thcolumn  ...  Basic_Demos_Study_Site  \\\n0          0.068583           0.029271  ...                       1   \n1         -0.004750          -0.035073  ...                       1   \n2          0.083721          -0.014275  ...                       1   \n6          0.082289          -0.018601  ...                       1   \n7         -0.052236           0.043440  ...                       1   \n\n   PreInt_Demos_Fam_Child_Ethnicity  PreInt_Demos_Fam_Child_Race  \\\n0                               0.0                            1   \n1                               1.0                            8   \n2                               0.0                            0   \n6                               0.0                            1   \n7                               1.0                            0   \n\n   MRI_Track_Scan_Location  Barratt_Barratt_P1_Edu  Barratt_Barratt_P1_Occ  \\\n0                        2                      21                      45   \n1                        1                       6                       5   \n2                        2                      18                      35   \n6                        1                      18                      25   \n7                        1                      21                      40   \n\n   Barratt_Barratt_P2_Edu  Barratt_Barratt_P2_Occ  ADHD_Outcome  Sex_F  \n0                      21                      45             1      0  \n1                       0                      15             1      1  \n2                       9                      20             1      1  \n6                      12                      20             0      0  \n7                      12                      20             1      0  \n\n[5 rows x 19929 columns]",
            "text/html": "<div>\n<style scoped>\n    .dataframe tbody tr th:only-of-type {\n        vertical-align: middle;\n    }\n\n    .dataframe tbody tr th {\n        vertical-align: top;\n    }\n\n    .dataframe thead th {\n        text-align: right;\n    }\n</style>\n<table border=\"1\" class=\"dataframe\">\n  <thead>\n    <tr style=\"text-align: right;\">\n      <th></th>\n      <th>0throw_1thcolumn</th>\n      <th>0throw_2thcolumn</th>\n      <th>0throw_3thcolumn</th>\n      <th>0throw_4thcolumn</th>\n      <th>0throw_5thcolumn</th>\n      <th>0throw_6thcolumn</th>\n      <th>0throw_7thcolumn</th>\n      <th>0throw_8thcolumn</th>\n      <th>0throw_9thcolumn</th>\n      <th>0throw_10thcolumn</th>\n      <th>...</th>\n      <th>Basic_Demos_Study_Site</th>\n      <th>PreInt_Demos_Fam_Child_Ethnicity</th>\n      <th>PreInt_Demos_Fam_Child_Race</th>\n      <th>MRI_Track_Scan_Location</th>\n      <th>Barratt_Barratt_P1_Edu</th>\n      <th>Barratt_Barratt_P1_Occ</th>\n      <th>Barratt_Barratt_P2_Edu</th>\n      <th>Barratt_Barratt_P2_Occ</th>\n      <th>ADHD_Outcome</th>\n      <th>Sex_F</th>\n    </tr>\n  </thead>\n  <tbody>\n    <tr>\n      <th>0</th>\n      <td>0.093473</td>\n      <td>0.146902</td>\n      <td>0.067893</td>\n      <td>0.015141</td>\n      <td>0.070221</td>\n      <td>0.063997</td>\n      <td>0.055382</td>\n      <td>-0.035335</td>\n      <td>0.068583</td>\n      <td>0.029271</td>\n      <td>...</td>\n      <td>1</td>\n      <td>0.0</td>\n      <td>1</td>\n      <td>2</td>\n      <td>21</td>\n      <td>45</td>\n      <td>21</td>\n      <td>45</td>\n      <td>1</td>\n      <td>0</td>\n    </tr>\n    <tr>\n      <th>1</th>\n      <td>0.029580</td>\n      <td>0.179323</td>\n      <td>0.112933</td>\n      <td>0.038291</td>\n      <td>0.104899</td>\n      <td>0.064250</td>\n      <td>0.008488</td>\n      <td>0.077505</td>\n      <td>-0.004750</td>\n      <td>-0.035073</td>\n      <td>...</td>\n      <td>1</td>\n      <td>1.0</td>\n      <td>8</td>\n      <td>1</td>\n      <td>6</td>\n      <td>5</td>\n      <td>0</td>\n      <td>15</td>\n      <td>1</td>\n      <td>1</td>\n    </tr>\n    <tr>\n      <th>2</th>\n      <td>-0.051580</td>\n      <td>0.139734</td>\n      <td>0.068295</td>\n      <td>0.046991</td>\n      <td>0.111085</td>\n      <td>0.026978</td>\n      <td>0.151377</td>\n      <td>0.021198</td>\n      <td>0.083721</td>\n      <td>-0.014275</td>\n      <td>...</td>\n      <td>1</td>\n      <td>0.0</td>\n      <td>0</td>\n      <td>2</td>\n      <td>18</td>\n      <td>35</td>\n      <td>9</td>\n      <td>20</td>\n      <td>1</td>\n      <td>1</td>\n    </tr>\n    <tr>\n      <th>6</th>\n      <td>0.045489</td>\n      <td>0.080887</td>\n      <td>0.073523</td>\n      <td>0.051792</td>\n      <td>0.024821</td>\n      <td>0.083677</td>\n      <td>0.094708</td>\n      <td>-0.140014</td>\n      <td>0.082289</td>\n      <td>-0.018601</td>\n      <td>...</td>\n      <td>1</td>\n      <td>0.0</td>\n      <td>1</td>\n      <td>1</td>\n      <td>18</td>\n      <td>25</td>\n      <td>12</td>\n      <td>20</td>\n      <td>0</td>\n      <td>0</td>\n    </tr>\n    <tr>\n      <th>7</th>\n      <td>0.063175</td>\n      <td>0.043360</td>\n      <td>0.096523</td>\n      <td>0.070671</td>\n      <td>0.126199</td>\n      <td>0.048935</td>\n      <td>0.099142</td>\n      <td>0.081876</td>\n      <td>-0.052236</td>\n      <td>0.043440</td>\n      <td>...</td>\n      <td>1</td>\n      <td>1.0</td>\n      <td>0</td>\n      <td>1</td>\n      <td>21</td>\n      <td>40</td>\n      <td>12</td>\n      <td>20</td>\n      <td>1</td>\n      <td>0</td>\n    </tr>\n  </tbody>\n</table>\n<p>5 rows × 19929 columns</p>\n</div>"
          },
          "metadata": {}
        }
      ],
      "execution_count": null
    },
    {
      "cell_type": "code",
      "source": [
        "# if env ==\"kaggle\":\n",
        "#   !pip install cudf-cu11"
      ],
      "metadata": {
        "id": "XK7DMr7VNesb",
        "trusted": true,
        "execution": {
          "iopub.status.busy": "2025-03-22T09:56:17.826596Z",
          "iopub.execute_input": "2025-03-22T09:56:17.826924Z",
          "iopub.status.idle": "2025-03-22T09:56:17.831324Z",
          "shell.execute_reply.started": "2025-03-22T09:56:17.826892Z",
          "shell.execute_reply": "2025-03-22T09:56:17.830374Z"
        }
      },
      "outputs": [],
      "execution_count": null
    },
    {
      "cell_type": "code",
      "source": [
        "import cudf"
      ],
      "metadata": {
        "trusted": true,
        "id": "sxgtnXZGCwPp",
        "execution": {
          "iopub.status.busy": "2025-03-22T09:56:17.832135Z",
          "iopub.execute_input": "2025-03-22T09:56:17.832400Z",
          "iopub.status.idle": "2025-03-22T09:56:17.843617Z",
          "shell.execute_reply.started": "2025-03-22T09:56:17.832367Z",
          "shell.execute_reply": "2025-03-22T09:56:17.842782Z"
        }
      },
      "outputs": [],
      "execution_count": null
    },
    {
      "cell_type": "code",
      "source": [
        "# Convert pandas DataFrame to cuDF\n",
        "cudf_df = cudf.DataFrame.from_pandas(final_merge)\n",
        "\n",
        "# Compute correlation on GPU\n",
        "gpu_corr = cudf_df.corr()\n",
        "del cudf_df\n",
        "# Convert back to pandas if needed\n",
        "correlation_matrix = gpu_corr.to_pandas()"
      ],
      "metadata": {
        "id": "4GfqAmqsIzQn",
        "trusted": true,
        "execution": {
          "iopub.status.busy": "2025-03-22T09:56:17.844508Z",
          "iopub.execute_input": "2025-03-22T09:56:17.844772Z",
          "iopub.status.idle": "2025-03-22T09:56:57.197139Z",
          "shell.execute_reply.started": "2025-03-22T09:56:17.844751Z",
          "shell.execute_reply": "2025-03-22T09:56:57.196065Z"
        }
      },
      "outputs": [],
      "execution_count": null
    },
    {
      "cell_type": "code",
      "source": [
        "del training_combined, train_categorical, train_quantitative, train_functional, first_merge, second_merge,melt_df"
      ],
      "metadata": {
        "id": "1MCv-U5qLGTs",
        "trusted": true,
        "execution": {
          "iopub.status.busy": "2025-03-22T09:56:57.198691Z",
          "iopub.execute_input": "2025-03-22T09:56:57.198958Z",
          "iopub.status.idle": "2025-03-22T09:56:57.215058Z",
          "shell.execute_reply.started": "2025-03-22T09:56:57.198924Z",
          "shell.execute_reply": "2025-03-22T09:56:57.214111Z"
        }
      },
      "outputs": [],
      "execution_count": null
    },
    {
      "cell_type": "code",
      "source": [
        "corr_matrix=correlation_matrix"
      ],
      "metadata": {
        "trusted": true,
        "execution": {
          "iopub.status.busy": "2025-03-22T09:58:38.832930Z",
          "iopub.execute_input": "2025-03-22T09:58:38.833244Z",
          "iopub.status.idle": "2025-03-22T09:58:38.837064Z",
          "shell.execute_reply.started": "2025-03-22T09:58:38.833223Z",
          "shell.execute_reply": "2025-03-22T09:58:38.836142Z"
        },
        "id": "UFUHYkqpnJvN"
      },
      "outputs": [],
      "execution_count": null
    },
    {
      "cell_type": "code",
      "source": [
        "# Set a threshold for high correlation\n",
        "threshold = 0.8\n",
        "\n",
        "# Create a boolean mask for the upper triangle of the correlation matrix (excluding the diagonal)\n",
        "mask = np.triu(np.ones(corr_matrix.shape, dtype=bool), k=1)\n",
        "\n",
        "# Find indices where the absolute correlation is above the threshold in the upper triangle\n",
        "high_corr_indices = np.where((np.abs(corr_matrix.values) > threshold) & mask)\n",
        "\n",
        "# Extract the variable names and correlation values for these pairs\n",
        "high_corr_pairs = [\n",
        "    (corr_matrix.columns[i], corr_matrix.columns[j], corr_matrix.values[i, j])\n",
        "    for i, j in zip(*high_corr_indices)\n",
        "]\n",
        "\n",
        "# Convert to a DataFrame for better readability\n",
        "high_corr_df = pd.DataFrame(high_corr_pairs, columns=[\"Variable 1\", \"Variable 2\", \"Correlation\"])\n",
        "\n",
        "# Display the highly correlated pairs\n",
        "print(\"Highly Correlated Variables:\")\n",
        "print(high_corr_df)"
      ],
      "metadata": {
        "id": "Ffd0HIgTJ_Co",
        "trusted": true,
        "execution": {
          "iopub.status.busy": "2025-03-22T09:58:43.771192Z",
          "iopub.execute_input": "2025-03-22T09:58:43.771476Z",
          "iopub.status.idle": "2025-03-22T09:59:00.113519Z",
          "shell.execute_reply.started": "2025-03-22T09:58:43.771455Z",
          "shell.execute_reply": "2025-03-22T09:59:00.112666Z"
        },
        "outputId": "24917e59-9e31-4350-be9a-3ea634f16e2e"
      },
      "outputs": [
        {
          "name": "stdout",
          "text": "Highly Correlated Variables:\n                   Variable 1             Variable 2  Correlation\n0    SDQ_SDQ_Conduct_Problems  SDQ_SDQ_Externalizing     0.803176\n1  SDQ_SDQ_Difficulties_Total  SDQ_SDQ_Externalizing     0.889388\n2  SDQ_SDQ_Difficulties_Total  SDQ_SDQ_Internalizing     0.837009\n3  SDQ_SDQ_Emotional_Problems  SDQ_SDQ_Internalizing     0.837526\n4       SDQ_SDQ_Externalizing  SDQ_SDQ_Hyperactivity     0.901534\n5       SDQ_SDQ_Internalizing  SDQ_SDQ_Peer_Problems     0.829422\n",
          "output_type": "stream"
        }
      ],
      "execution_count": null
    },
    {
      "cell_type": "markdown",
      "source": [
        "this part was added on collab"
      ],
      "metadata": {
        "id": "H_BJ-6cHnO28"
      }
    }
  ]
}